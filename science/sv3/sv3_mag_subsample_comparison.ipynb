{
 "cells": [
  {
   "attachments": {},
   "cell_type": "markdown",
   "metadata": {},
   "source": [
    "Compare the magnitudes produced by tractor to the magnitudes produced by the curve of growth"
   ]
  },
  {
   "cell_type": "code",
   "execution_count": 30,
   "metadata": {},
   "outputs": [],
   "source": [
    "from astropy.io import fits\n",
    "from astropy.table import Table\n",
    "import astropy\n",
    "import os\n",
    "from glob import glob\n",
    "import numpy as np\n",
    "import fitsio\n"
   ]
  },
  {
   "cell_type": "code",
   "execution_count": 29,
   "metadata": {},
   "outputs": [
    {
     "name": "stdout",
     "output_type": "stream",
     "text": [
      "Defaulting to user installation because normal site-packages is not writeable\n",
      "Collecting fitsio\n",
      "  Downloading fitsio-1.1.8.tar.gz (5.0 MB)\n",
      "\u001b[K     |████████████████████████████████| 5.0 MB 359 kB/s eta 0:00:01\n",
      "\u001b[?25hRequirement already satisfied: numpy in /global/common/cori_cle7/software/jupyter/cori/21-03/lib/python3.8/site-packages (from fitsio) (1.20.2)\n",
      "Building wheels for collected packages: fitsio\n",
      "  Building wheel for fitsio (setup.py) ... \u001b[?25ldone\n",
      "\u001b[?25h  Created wheel for fitsio: filename=fitsio-1.1.8-cp38-cp38-linux_x86_64.whl size=1663890 sha256=e93d75106db69b9581ee2f1f5723fa6e63d138db00adc10fbee661b4d149ef65\n",
      "  Stored in directory: /global/u1/m/mkwiecie/.cache/pip/wheels/05/c0/99/1ec9f7f759b5c8ac8d807f390a4032cce09c096360fa20e5e6\n",
      "Successfully built fitsio\n",
      "Installing collected packages: fitsio\n",
      "Successfully installed fitsio-1.1.8\n"
     ]
    }
   ],
   "source": [
    "!pip install fitsio"
   ]
  },
  {
   "cell_type": "code",
   "execution_count": 31,
   "metadata": {},
   "outputs": [],
   "source": [
    "path = '/global/homes/m/mkwiecie/desi/sv3-clustering'\n",
    "output_path = '/global/homes/m/mkwiecie/desi/legacydata/output/3962/'\n",
    "base_cat = 'BGS_BRIGHT_S_clustering.dat.fits'"
   ]
  },
  {
   "cell_type": "code",
   "execution_count": 32,
   "metadata": {},
   "outputs": [],
   "source": [
    "# Test code\n",
    "galaxydir1 = \"/global/homes/m/mkwiecie/desi/legacydata/output/3962/39627746019641337\"\n",
    "galaxy1 = \"39627746019641337\""
   ]
  },
  {
   "cell_type": "code",
   "execution_count": 33,
   "metadata": {},
   "outputs": [],
   "source": [
    "\n",
    "def _read_ccds_tractor_sample(prefix=\"custom\"):\n",
    "    nccds, tractor, sample = None, None, None\n",
    "    refcolumn='TARGETID'\n",
    "\n",
    "    # samplefile can exist without tractorfile when using --just-coadds\n",
    "    samplefile = os.path.join(galaxydir1, \"{}-sample.fits\".format(galaxy1))\n",
    "    print(samplefile)\n",
    "    if os.path.isfile(samplefile):\n",
    "        sample = astropy.table.Table(fitsio.read(samplefile, upper=True))\n",
    "\n",
    "    tractorfile = os.path.join(\n",
    "        galaxydir1, \"{}-{}-tractor.fits\".format(galaxy1, prefix)\n",
    "    )\n",
    "    print(tractorfile)\n",
    "    if os.path.isfile(tractorfile):\n",
    "        cols = [\n",
    "            \"ref_cat\",\n",
    "            \"ref_id\",\n",
    "            \"type\",\n",
    "            \"sersic\",\n",
    "            \"shape_r\",\n",
    "            \"shape_e1\",\n",
    "            \"shape_e2\",\n",
    "            \"flux_g\",\n",
    "            \"flux_r\",\n",
    "            \"flux_z\",\n",
    "            \"flux_ivar_g\",\n",
    "            \"flux_ivar_r\",\n",
    "            \"flux_ivar_z\",\n",
    "        ]\n",
    "        print(\"1\")\n",
    "        tractor = astropy.table.Table(\n",
    "            fitsio.read(tractorfile, lower=True, columns=cols)\n",
    "        )  # , rows=irows\n",
    "        print(\"2\")\n",
    "        # We just care about the galaxies in our sample\n",
    "        wt, ws = [], []\n",
    "        for ii, sid in enumerate(sample[refcolumn]):\n",
    "            ww = np.where(tractor[\"ref_id\"] == sid)[0]\n",
    "            if len(ww) > 0:\n",
    "                wt.append(ww)\n",
    "                ws.append(ii)\n",
    "        print(\"3\")\n",
    "        if len(wt) == 0:\n",
    "            tractor = None\n",
    "        else:\n",
    "            wt = np.hstack(wt)\n",
    "            ws = np.hstack(ws)\n",
    "            tractor = tractor[wt]\n",
    "            sample = sample[ws]\n",
    "            srt = np.argsort(tractor[\"flux_r\"])[::-1]\n",
    "            tractor = tractor[srt]\n",
    "            sample = sample[srt]\n",
    "            assert np.all(tractor[\"ref_id\"] == sample[refcolumn])\n",
    "        print(\"4\")\n",
    "    return tractor, sample"
   ]
  },
  {
   "cell_type": "code",
   "execution_count": 34,
   "metadata": {},
   "outputs": [],
   "source": [
    "def _get_mags(\n",
    "    cat,\n",
    "    rad=\"10\",\n",
    "    bands=[\"g\", \"r\", \"z\"],\n",
    "    kpc=False,\n",
    "    pipeline=False,\n",
    "    cog=False,\n",
    "    R24=False,\n",
    "    R25=False,\n",
    "    R26=False,\n",
    "):\n",
    "    res = []\n",
    "    for band in bands:\n",
    "        mag = None\n",
    "        if kpc:\n",
    "            iv = cat[\"FLUX{}_IVAR_{}\".format(rad, band.upper())][0]\n",
    "            ff = cat[\"FLUX{}_{}\".format(rad, band.upper())][0]\n",
    "        elif pipeline:\n",
    "            iv = cat[\"flux_ivar_{}\".format(band.lower())]\n",
    "            ff = cat[\"flux_{}\".format(band.lower())]\n",
    "        elif R24:\n",
    "            mag = cat[\"{}_mag_sb24\".format(band.lower())]\n",
    "        elif R25:\n",
    "            mag = cat[\"{}_mag_sb25\".format(band.lower())]\n",
    "        elif R26:\n",
    "            mag = cat[\"{}_mag_sb26\".format(band.lower())]\n",
    "        elif cog:\n",
    "            mag = cat[\"cog_mtot_{}\".format(band.lower())]\n",
    "        else:\n",
    "            print(\"Thar be rocks ahead!\")\n",
    "        if mag:\n",
    "            res.append(\"{:.3f}\".format(mag))\n",
    "        else:\n",
    "            if ff > 0:\n",
    "                mag = 22.5 - 2.5 * np.log10(ff)\n",
    "                if iv > 0:\n",
    "                    ee = 1 / np.sqrt(iv)\n",
    "                    magerr = 2.5 * ee / ff / np.log(10)\n",
    "                res.append(\"{:.3f}\".format(mag))\n",
    "            elif ff < 0 and iv > 0:\n",
    "                # upper limit\n",
    "                mag = 22.5 - 2.5 * np.log10(1 / np.sqrt(iv))\n",
    "                res.append(\">{:.3f}\".format(mag))\n",
    "            else:\n",
    "                res.append(\"...\")\n",
    "    return res"
   ]
  },
  {
   "cell_type": "code",
   "execution_count": 35,
   "metadata": {},
   "outputs": [],
   "source": [
    "def read_ellipsefit(galaxy, galaxydir, filesuffix='', galaxy_id='', verbose=True,\n",
    "                    asTable=False):\n",
    "    \"\"\"Read the output of write_ellipsefit. Convert the astropy Table into a\n",
    "    dictionary so we can use a bunch of legacy code.\n",
    "\n",
    "    \"\"\"\n",
    "    if galaxy_id.strip() == '':\n",
    "        galid = ''\n",
    "    else:\n",
    "        galid = '-{}'.format(galaxy_id)\n",
    "    if filesuffix.strip() == '':\n",
    "        fsuff = ''\n",
    "    else:\n",
    "        fsuff = '-{}'.format(filesuffix)\n",
    "\n",
    "    ellipsefitfile = os.path.join(galaxydir, '{}{}-ellipse{}.fits'.format(galaxy, fsuff, galid))\n",
    "        \n",
    "    if os.path.isfile(ellipsefitfile):\n",
    "        data = Table(fitsio.read(ellipsefitfile))\n",
    "\n",
    "        # Optionally convert (back!) into a dictionary.\n",
    "        if asTable:\n",
    "            return data\n",
    "        ellipsefit = {}\n",
    "        for key in data.colnames:\n",
    "            val = data[key][0]\n",
    "            #val = data[key].tolist()[0]\n",
    "            #if np.logical_not(np.isscalar(val)) and len(val) > 0:\n",
    "            #    val = np.array(val, dtype=data[key].dtype)\n",
    "            ellipsefit[key.lower()] = val # lowercase!\n",
    "            #ellipsefit[key.lower()] = np.array(val, dtype=data[key].dtype)\n",
    "    else:\n",
    "        if verbose:\n",
    "            print('File {} not found!'.format(ellipsefitfile))\n",
    "        if asTable:\n",
    "            ellipsefit = Table()\n",
    "        else:\n",
    "            ellipsefit = dict()\n",
    "\n",
    "    return ellipsefit"
   ]
  },
  {
   "cell_type": "code",
   "execution_count": 36,
   "metadata": {},
   "outputs": [
    {
     "name": "stdout",
     "output_type": "stream",
     "text": [
      "/global/homes/m/mkwiecie/desi/legacydata/output/3962/39627746019641337/39627746019641337-sample.fits\n",
      "/global/homes/m/mkwiecie/desi/legacydata/output/3962/39627746019641337/39627746019641337-custom-tractor.fits\n",
      "1\n",
      "2\n",
      "3\n",
      "4\n",
      "Tractor r mag:  19.493\n",
      "COG r mag:  19.306\n"
     ]
    }
   ],
   "source": [
    "tractor, sample = _read_ccds_tractor_sample(prefix=\"custom\")\n",
    "\n",
    "for tt, ss in zip(tractor, sample):\n",
    "    g_tractor, r_tractor, z_tractor = _get_mags(tt, pipeline=True)\n",
    "\n",
    "    galaxyid = str(tt[\"ref_id\"])\n",
    "    ellipse = read_ellipsefit(\n",
    "        galaxy1,\n",
    "        galaxydir1,\n",
    "        filesuffix=\"custom\",\n",
    "        galaxy_id=galaxyid,\n",
    "        verbose=False,\n",
    "    )\n",
    "    if bool(ellipse):\n",
    "        g_COG, r_COG, z_COG = _get_mags(ellipse, cog=True)\n",
    "\n",
    "    print(\"Tractor r mag: \", r_tractor)\n",
    "    print(\"COG r mag: \", r_COG)"
   ]
  },
  {
   "cell_type": "code",
   "execution_count": 37,
   "metadata": {},
   "outputs": [
    {
     "ename": "SyntaxError",
     "evalue": "invalid syntax (<ipython-input-37-ca2d68100f0e>, line 1)",
     "output_type": "error",
     "traceback": [
      "\u001b[0;36m  File \u001b[0;32m\"<ipython-input-37-ca2d68100f0e>\"\u001b[0;36m, line \u001b[0;32m1\u001b[0m\n\u001b[0;31m    Correct.\u001b[0m\n\u001b[0m            ^\u001b[0m\n\u001b[0;31mSyntaxError\u001b[0m\u001b[0;31m:\u001b[0m invalid syntax\n"
     ]
    }
   ],
   "source": [
    "Correct."
   ]
  },
  {
   "cell_type": "code",
   "execution_count": null,
   "metadata": {},
   "outputs": [],
   "source": []
  }
 ],
 "metadata": {
  "kernelspec": {
   "display_name": "base",
   "language": "python",
   "name": "python3"
  },
  "language_info": {
   "codemirror_mode": {
    "name": "ipython",
    "version": 3
   },
   "file_extension": ".py",
   "mimetype": "text/x-python",
   "name": "python",
   "nbconvert_exporter": "python",
   "pygments_lexer": "ipython3",
   "version": "3.8.5"
  },
  "orig_nbformat": 4,
  "vscode": {
   "interpreter": {
    "hash": "a4e19f83f1f82f5550712ec33b4e65358df2717b46bd69bd850a55d26c55a7f6"
   }
  }
 },
 "nbformat": 4,
 "nbformat_minor": 2
}
