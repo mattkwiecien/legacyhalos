{
 "cells": [
  {
   "attachments": {},
   "cell_type": "markdown",
   "metadata": {},
   "source": [
    "Create a randomly selected sample of galaxies to see where pipeline benefits start to fall short."
   ]
  },
  {
   "cell_type": "code",
   "execution_count": 1,
   "metadata": {},
   "outputs": [],
   "source": [
    "from astropy.io import fits\n",
    "from astropy.table import Table\n",
    "import os\n",
    "import numpy as np\n",
    "from sklearn.utils import resample\n"
   ]
  },
  {
   "cell_type": "code",
   "execution_count": 2,
   "metadata": {},
   "outputs": [],
   "source": [
    "file = '/Users/matt/Data/legacydata/sv3-clustering/BGS_BRIGHT_S_clustering.dat.fits'"
   ]
  },
  {
   "cell_type": "code",
   "execution_count": 4,
   "metadata": {},
   "outputs": [
    {
     "name": "stdout",
     "output_type": "stream",
     "text": [
      "['RA', 'DEC', 'TARGETID', 'NTILE', 'TILES', 'Z', 'COMP_TILE', 'rosette_number', 'rosette_r', 'FRACZ_TILELOCID', 'BITWEIGHTS', 'PROB_OBS', 'WEIGHT_ZFAIL', 'WEIGHT', 'flux_g_dered', 'flux_r_dered', 'flux_z_dered', 'flux_w1_dered', 'flux_w2_dered', 'REST_GMR_0P1', 'KCORR_R0P1', 'KCORR_G0P1', 'KCORR_R0P0', 'KCORR_G0P0', 'REST_GMR_0P0', 'EQ_ALL_0P0', 'EQ_ALL_0P1', 'ABSMAG_R', 'NZ', 'WEIGHT_FKP']\n"
     ]
    }
   ],
   "source": [
    "bgs_bs = Table(fits.getdata( file))\n",
    "print(bgs_bs.colnames)"
   ]
  },
  {
   "cell_type": "code",
   "execution_count": 5,
   "metadata": {},
   "outputs": [
    {
     "name": "stdout",
     "output_type": "stream",
     "text": [
      "15.849391\n",
      "15088.81\n"
     ]
    },
    {
     "data": {
      "text/plain": [
       "(array([7.5006e+04, 5.7000e+02, 1.9400e+02, 4.3000e+01, 3.8000e+01,\n",
       "        1.4000e+01, 6.0000e+00, 7.0000e+00, 2.0000e+00, 1.0000e+00]),\n",
       " array([ 1.   ,  1.975,  2.95 ,  3.925,  4.9  ,  5.875,  6.85 ,  7.825,\n",
       "         8.8  ,  9.775, 10.75 ]),\n",
       " <BarContainer object of 10 artists>)"
      ]
     },
     "execution_count": 5,
     "metadata": {},
     "output_type": "execute_result"
    },
    {
     "data": {
      "image/png": "[encoded data removed]",
      "text/plain": [
       "<Figure size 640x480 with 1 Axes>"
      ]
     },
     "metadata": {},
     "output_type": "display_data"
    }
   ],
   "source": [
    "import matplotlib.pyplot as plt\n",
    "print(min(bgs_bs['flux_r_dered']))\n",
    "print(max(bgs_bs['flux_r_dered']))\n",
    "\n",
    "plt.hist(bgs_bs[\"WEIGHT\"])"
   ]
  },
  {
   "cell_type": "code",
   "execution_count": 6,
   "metadata": {},
   "outputs": [],
   "source": [
    "def flux_to_mag(flux):\n",
    "    return (-5/2)*np.log10(flux) + 22.5\n",
    "\n",
    "def mag_to_flux(mag):\n",
    "    return 10**((2/5)* (22.5 - mag))\n",
    "\n",
    "bgs_bs[\"mag_r_dered\"] = flux_to_mag(bgs_bs[\"flux_r_dered\"])\n",
    "bgs_bs[\"mag_g_dered\"] = flux_to_mag(bgs_bs[\"flux_g_dered\"])\n",
    "bgs_bs[\"mag_z_dered\"] = flux_to_mag(bgs_bs[\"flux_z_dered\"])"
   ]
  },
  {
   "attachments": {},
   "cell_type": "markdown",
   "metadata": {},
   "source": [
    "Using\n",
    "$$\n",
    "mag = -\\frac{5}{2} \\log_{10}(f) + 22.5\n",
    "$$\n",
    "and\n",
    "$$\n",
    "f = 10^{\\frac{2}{5}(22.5-mag)}\n",
    "$$\n",
    "For nanomaggies"
   ]
  },
  {
   "cell_type": "code",
   "execution_count": 8,
   "metadata": {},
   "outputs": [
    {
     "data": {
      "text/html": [
       "<div><i>Table length=1</i>\n",
       "<table id=\"table140297659048768\" class=\"table-striped table-bordered table-condensed\">\n",
       "<thead><tr><th>RA</th><th>DEC</th><th>TARGETID</th><th>NTILE</th><th>TILES</th><th>Z</th><th>COMP_TILE</th><th>rosette_number</th><th>rosette_r</th><th>FRACZ_TILELOCID</th><th>BITWEIGHTS</th><th>PROB_OBS</th><th>WEIGHT_ZFAIL</th><th>WEIGHT</th><th>flux_g_dered</th><th>flux_r_dered</th><th>flux_z_dered</th><th>flux_w1_dered</th><th>flux_w2_dered</th><th>REST_GMR_0P1</th><th>KCORR_R0P1</th><th>KCORR_G0P1</th><th>KCORR_R0P0</th><th>KCORR_G0P0</th><th>REST_GMR_0P0</th><th>EQ_ALL_0P0</th><th>EQ_ALL_0P1</th><th>ABSMAG_R</th><th>NZ</th><th>WEIGHT_FKP</th><th>mag_r_dered</th><th>mag_g_dered</th><th>mag_z_dered</th></tr></thead>\n",
       "<thead><tr><th>float64</th><th>float64</th><th>int64</th><th>int64</th><th>str43</th><th>float64</th><th>float64</th><th>float64</th><th>float64</th><th>float64</th><th>int64[2]</th><th>float64</th><th>float64</th><th>float64</th><th>float32</th><th>float32</th><th>float32</th><th>float32</th><th>float32</th><th>float64</th><th>float64</th><th>float64</th><th>float64</th><th>float64</th><th>float64</th><th>float64</th><th>float64</th><th>float64</th><th>float64</th><th>float64</th><th>float32</th><th>float32</th><th>float32</th></tr></thead>\n",
       "<tr><td>194.41128243343505</td><td>28.669273309737786</td><td>39628454575999975</td><td>7</td><td>120-124-125-126-127-128-129</td><td>0.019347997617750242</td><td>1.0</td><td>4.0</td><td>0.5558183491523893</td><td>1.0</td><td>-1 .. -1</td><td>1.0</td><td>1.0</td><td>1.0</td><td>38.402855</td><td>70.525406</td><td>104.32747</td><td>51.266727</td><td>25.781889</td><td>0.7496183213943896</td><td>-0.19954506730425836</td><td>-0.28920741030488684</td><td>0.02722243336213248</td><td>0.030283741931249664</td><td>0.6568946698244376</td><td>-0.018767557689217736</td><td>-0.018767557689217736</td><td>-15.751453242161187</td><td>0.3270132189900589</td><td>0.00045280624400793255</td><td>17.879135</td><td>18.539091</td><td>17.454002</td></tr>\n",
       "</table></div>"
      ],
      "text/plain": [
       "<Table length=1>\n",
       "        RA                DEC         ... mag_g_dered mag_z_dered\n",
       "     float64            float64       ...   float32     float32  \n",
       "------------------ ------------------ ... ----------- -----------\n",
       "194.41128243343505 28.669273309737786 ...   18.539091   17.454002"
      ]
     },
     "execution_count": 8,
     "metadata": {},
     "output_type": "execute_result"
    }
   ],
   "source": [
    "# slow_ids = [39628454575999975, 39627884993708166]\n",
    "slow_ids = [39628454575999975]\n",
    "slow_galaxies = bgs_bs[np.isin(bgs_bs['TARGETID'], slow_ids)]\n",
    "slow_galaxies.write(f'/Users/matt/Data/legacydata/sv3-clustering/debug_39628454575999975.fits', overwrite=True)\n",
    "\n",
    "fast_ids = [39627739988230699]\n",
    "fast_galaxies = bgs_bs[np.isin(bgs_bs['TARGETID'], fast_ids)]\n",
    "fast_galaxies.write(f'/Users/matt/Data/legacydata/sv3-clustering/debug_39627739988230699.fits', overwrite=True)\n",
    "\n",
    "slow_galaxies\n",
    "# fast_galaxies[0]\n",
    "# print(slow_galaxies[0]['Z', 'mag_r_dered'])\n"
   ]
  },
  {
   "cell_type": "code",
   "execution_count": 42,
   "metadata": {},
   "outputs": [
    {
     "name": "stdout",
     "output_type": "stream",
     "text": [
      "[2, 4, 8, 16, 32, 64, 128, 256, 512, 1024, 2048, 4096, 8192, 16384]\n"
     ]
    }
   ],
   "source": [
    "print([2**x for x in range(1, 15)])\n",
    "N_sample = 1024"
   ]
  },
  {
   "cell_type": "code",
   "execution_count": 43,
   "metadata": {},
   "outputs": [
    {
     "name": "stdout",
     "output_type": "stream",
     "text": [
      "1024\n"
     ]
    },
    {
     "data": {
      "text/plain": [
       "(array([0.00156704, 0.00156704, 0.00626817, 0.0109693 , 0.02350568,\n",
       "        0.05327947, 0.10029076, 0.23192238, 0.40273008, 0.77255226]),\n",
       " array([13.26808071, 13.89126873, 14.51445675, 15.13764477, 15.76083279,\n",
       "        16.38401985, 17.00720787, 17.63039589, 18.25358391, 18.87677193,\n",
       "        19.49995995]),\n",
       " [<matplotlib.patches.Polygon at 0x7f8a51b5a940>])"
      ]
     },
     "execution_count": 43,
     "metadata": {},
     "output_type": "execute_result"
    },
    {
     "data": {
      "image/png": "[encoded data removed]",
      "text/plain": [
       "<Figure size 640x480 with 1 Axes>"
      ]
     },
     "metadata": {},
     "output_type": "display_data"
    }
   ],
   "source": [
    "import matplotlib.pyplot as plt\n",
    "\n",
    "plt.hist(bgs_bs['mag_r_dered'], histtype='step', density=True)\n",
    "\n",
    "random_ids = np.random.choice(bgs_bs['TARGETID'], N_sample, replace=False)\n",
    "print(len(random_ids))\n",
    "randoms = bgs_bs[np.isin(bgs_bs['TARGETID'], random_ids)]\n",
    "\n",
    "plt.hist(randoms['mag_r_dered'], histtype='step', density=True)\n"
   ]
  },
  {
   "cell_type": "code",
   "execution_count": 44,
   "metadata": {},
   "outputs": [
    {
     "name": "stdout",
     "output_type": "stream",
     "text": [
      "1024\n"
     ]
    }
   ],
   "source": [
    "print(len(randoms))\n",
    "randoms.write(f'/Users/matt/Data/legacydata/sv3-clustering/{N_sample}_randoms_tuning.fits', overwrite=True)"
   ]
  },
  {
   "cell_type": "code",
   "execution_count": 18,
   "metadata": {},
   "outputs": [],
   "source": [
    "\n",
    "def resample_by_bin(min, max, bgs, n_sample):\n",
    "    \n",
    "    mask = (bgs['flux_r_dered'] >= min) & (bgs['flux_r_dered'] < max)\n",
    "    bgs_cut = bgs[mask]\n",
    "    if n_sample > len(bgs_cut):\n",
    "        return bgs_cut\n",
    "\n",
    "    ids = bgs_cut['TARGETID']\n",
    "    strat = bgs_cut['flux_r_dered']\n",
    "\n",
    "    subsample_ids = resample(ids, replace=False, n_samples=n_sample, stratify=strat)\n",
    "    return bgs_cut[np.isin(bgs_cut['TARGETID'], subsample_ids)]\n"
   ]
  },
  {
   "cell_type": "code",
   "execution_count": 23,
   "metadata": {},
   "outputs": [
    {
     "name": "stdout",
     "output_type": "stream",
     "text": [
      "14996.84835502377\n",
      "7557.880136804536\n",
      "3808.9037649813595\n",
      "1919.552523761383\n",
      "967.3864499689537\n",
      "487.528490103386\n",
      "245.6970827636836\n",
      "123.82262309589933\n",
      "62.40221421389766\n",
      "31.448504654769607\n"
     ]
    }
   ],
   "source": [
    "resamples = []\n",
    "\n",
    "for i in range(len(flux_bins)-1):\n",
    "    print(flux_bins[i])\n",
    "    resamples.append(resample_by_bin(flux_bins[i+1], flux_bins[i], bgs_bs, 100))"
   ]
  },
  {
   "cell_type": "code",
   "execution_count": 24,
   "metadata": {},
   "outputs": [
    {
     "data": {
      "image/png": "[encoded data removed]",
      "text/plain": [
       "<Figure size 432x288 with 1 Axes>"
      ]
     },
     "metadata": {
      "needs_background": "light"
     },
     "output_type": "display_data"
    }
   ],
   "source": [
    "for s in resamples:\n",
    "    plt.hist(s['flux_r_dered'], histtype='step')"
   ]
  },
  {
   "cell_type": "code",
   "execution_count": 25,
   "metadata": {},
   "outputs": [
    {
     "name": "stdout",
     "output_type": "stream",
     "text": [
      "subsampled_bgs_min_8235.47_max_14582.40.fits\n",
      "subsampled_bgs_min_3860.05_max_7096.44.fits\n",
      "subsampled_bgs_min_1922.97_max_3773.81.fits\n",
      "subsampled_bgs_min_968.14_max_1908.68.fits\n",
      "subsampled_bgs_min_492.14_max_957.75.fits\n",
      "subsampled_bgs_min_246.13_max_480.84.fits\n",
      "subsampled_bgs_min_124.30_max_241.02.fits\n",
      "subsampled_bgs_min_62.70_max_123.38.fits\n",
      "subsampled_bgs_min_31.50_max_62.21.fits\n",
      "subsampled_bgs_min_15.85_max_29.39.fits\n"
     ]
    }
   ],
   "source": [
    "for s in resamples:\n",
    "    fname = f\"subsampled_bgs_min_{min(s['flux_r_dered']):.2f}_max_{max(s['flux_r_dered']):.2f}.fits\"\n",
    "    print(fname)\n",
    "    s.write('/global/homes/m/mkwiecie/desi/sv3-clustering/subsampled_bgs/'+fname, overwrite=True)"
   ]
  },
  {
   "cell_type": "code",
   "execution_count": null,
   "metadata": {},
   "outputs": [],
   "source": []
  }
 ],
 "metadata": {
  "kernelspec": {
   "display_name": "base",
   "language": "python",
   "name": "python3"
  },
  "language_info": {
   "codemirror_mode": {
    "name": "ipython",
    "version": 3
   },
   "file_extension": ".py",
   "mimetype": "text/x-python",
   "name": "python",
   "nbconvert_exporter": "python",
   "pygments_lexer": "ipython3",
   "version": "3.8.17"
  },
  "orig_nbformat": 4,
  "vscode": {
   "interpreter": {
    "hash": "a4e19f83f1f82f5550712ec33b4e65358df2717b46bd69bd850a55d26c55a7f6"
   }
  }
 },
 "nbformat": 4,
 "nbformat_minor": 2
}
