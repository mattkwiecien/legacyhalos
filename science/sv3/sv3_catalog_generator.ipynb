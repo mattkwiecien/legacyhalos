{
 "cells": [
  {
   "cell_type": "markdown",
   "metadata": {},
   "source": [
    "Extract the data from the output and store in a FITS catalog"
   ]
  },
  {
   "cell_type": "code",
   "execution_count": 1,
   "metadata": {
    "tags": []
   },
   "outputs": [],
   "source": [
    "from glob import glob\n",
    "import os, sys\n",
    "import astropy\n",
    "from astropy.table import Table, Column\n",
    "import fitsio\n",
    "import numpy as np"
   ]
  },
  {
   "cell_type": "code",
   "execution_count": 7,
   "metadata": {
    "tags": []
   },
   "outputs": [],
   "source": [
    "# path = '/global/homes/m/mkwiecie/desi/sv3-clustering'\n",
    "output_path = '/pscratch/sd/m/mkwiecie/legacydata/sv3j_overlap_outputs/output/3962/'\n",
    "# base_cat = 'BGS_BRIGHT_S_clustering.dat.fits'"
   ]
  },
  {
   "cell_type": "code",
   "execution_count": 8,
   "metadata": {
    "tags": []
   },
   "outputs": [
    {
     "name": "stdout",
     "output_type": "stream",
     "text": [
      "386\n"
     ]
    }
   ],
   "source": [
    "finished_galaxy_paths = glob(output_path+'*', recursive=False)\n",
    "print(len(finished_galaxy_paths))"
   ]
  },
  {
   "cell_type": "code",
   "execution_count": 9,
   "metadata": {
    "tags": []
   },
   "outputs": [],
   "source": [
    "def read_ccds_tractor_sample(galaxy_dir, galaxy, prefix=\"custom\"):\n",
    "    nccds, tractor, sample = None, None, None\n",
    "    refcolumn='TARGETID'\n",
    "\n",
    "    files = os.listdir(galaxy_dir)\n",
    "    for f in files:\n",
    "        if 'isfail' in f:\n",
    "            return None, None\n",
    "\n",
    "\n",
    "    # samplefile can exist without tractorfile when using --just-coadds\n",
    "    samplefile = os.path.join(galaxy_dir, \"{}-sample.fits\".format(galaxy))\n",
    "    if os.path.isfile(samplefile):\n",
    "        sample = astropy.table.Table(fitsio.read(samplefile, upper=True))\n",
    "\n",
    "    tractorfile = os.path.join(\n",
    "        galaxy_dir, \"{}-{}-tractor.fits\".format(galaxy, prefix)\n",
    "    )\n",
    "    if os.path.isfile(tractorfile):\n",
    "        tractor = astropy.table.Table(\n",
    "            fitsio.read(tractorfile, lower=True)\n",
    "        )  \n",
    "        \n",
    "        wt, ws = [], []\n",
    "        for ii, sid in enumerate(sample[refcolumn]):\n",
    "            ww = np.where(tractor[\"ref_id\"] == sid)[0]\n",
    "            if len(ww) > 0:\n",
    "                wt.append(ww)\n",
    "                ws.append(ii)\n",
    "        if len(wt) == 0:\n",
    "            tractor = None\n",
    "        else:\n",
    "            wt = np.hstack(wt)\n",
    "            ws = np.hstack(ws)\n",
    "            tractor = tractor[wt]\n",
    "            sample = sample[ws]\n",
    "            srt = np.argsort(tractor[\"flux_r\"])[::-1]\n",
    "            tractor = tractor[srt]\n",
    "            sample = sample[srt]\n",
    "            assert np.all(tractor[\"ref_id\"] == sample[refcolumn])\n",
    "    return tractor, sample"
   ]
  },
  {
   "cell_type": "code",
   "execution_count": 10,
   "metadata": {
    "tags": []
   },
   "outputs": [],
   "source": [
    "def read_ellipsefit(galaxy, galaxydir, filesuffix='', galaxy_id='', verbose=True,\n",
    "                    asTable=True):\n",
    "    \"\"\"Read the output of write_ellipsefit. Convert the astropy Table into a\n",
    "    dictionary so we can use a bunch of legacy code.\n",
    "\n",
    "    \"\"\"\n",
    "    if galaxy_id.strip() == '':\n",
    "        galid = ''\n",
    "    else:\n",
    "        galid = '-{}'.format(galaxy_id)\n",
    "    if filesuffix.strip() == '':\n",
    "        fsuff = ''\n",
    "    else:\n",
    "        fsuff = '-{}'.format(filesuffix)\n",
    "\n",
    "    ellipsefitfile = os.path.join(galaxydir, '{}{}-ellipse{}.fits'.format(galaxy, fsuff, galid))\n",
    "        \n",
    "    if os.path.isfile(ellipsefitfile):\n",
    "        print(ellipsefitfile,' exists')\n",
    "        data = Table(fitsio.read(ellipsefitfile))\n",
    "\n",
    "        # Optionally convert (back!) into a dictionary.\n",
    "        if asTable:\n",
    "            return data\n",
    "        ellipsefit = {}\n",
    "        for key in data.colnames:\n",
    "            val = data[key][0]\n",
    "            ellipsefit[key.lower()] = val # lowercase!\n",
    "    else:\n",
    "        print(ellipsefitfile,' doesnt exist')\n",
    "        return None\n",
    "\n",
    "    return ellipsefit"
   ]
  },
  {
   "cell_type": "code",
   "execution_count": 11,
   "metadata": {
    "tags": []
   },
   "outputs": [
    {
     "name": "stdout",
     "output_type": "stream",
     "text": [
      "/pscratch/sd/m/mkwiecie/legacydata/sv3j_overlap_outputs/output/3962/39627800432348509/39627800432348509-custom-ellipse-39627800432348509.fits  exists\n",
      "/pscratch/sd/m/mkwiecie/legacydata/sv3j_overlap_outputs/output/3962/39627776218629401/39627776218629401-custom-ellipse-39627776218629401.fits  exists\n",
      "/pscratch/sd/m/mkwiecie/legacydata/sv3j_overlap_outputs/output/3962/39627787731996510/39627787731996510-custom-ellipse-39627787731996510.fits  exists\n",
      "/pscratch/sd/m/mkwiecie/legacydata/sv3j_overlap_outputs/output/3962/39627764281642440/39627764281642440-custom-ellipse-39627764281642440.fits  exists\n",
      "/pscratch/sd/m/mkwiecie/legacydata/sv3j_overlap_outputs/output/3962/39627787778131707/39627787778131707-custom-ellipse-39627787778131707.fits  exists\n"
     ]
    }
   ],
   "source": [
    "tractor_rows = []\n",
    "sample_rows = []\n",
    "ellipse_rows = []\n",
    "\n",
    "for path in finished_galaxy_paths[0:5]:\n",
    "    galaxydir = path\n",
    "    galaxy = path.split(\"/\")[-1]\n",
    "    \n",
    "    tractor, sample = read_ccds_tractor_sample(galaxydir, galaxy, prefix=\"custom\")\n",
    "    if tractor is not None:\n",
    "        tractor_rows.append(tractor)\n",
    "        sample_rows.append(sample)\n",
    "        \n",
    "    ellipse = read_ellipsefit(galaxy,galaxydir,filesuffix=\"custom\",galaxy_id=galaxy,verbose=True,asTable=True)\n",
    "    if ellipse is not None:\n",
    "        ellipse_rows.append(ellipse)\n",
    "    \n",
    "total_tractor = astropy.table.vstack(tractor_rows)\n",
    "total_sample = astropy.table.vstack(sample_rows)"
   ]
  },
  {
   "cell_type": "code",
   "execution_count": 12,
   "metadata": {
    "tags": []
   },
   "outputs": [],
   "source": [
    "col_lkp={}\n",
    "\n",
    "for col in ellipse_rows[0].columns:\n",
    "    \n",
    "    max_len = 1\n",
    "    max_shape = (1,)\n",
    "    \n",
    "    for row in ellipse_rows:\n",
    "        \n",
    "        if len(row.columns[col].shape) > 1:    \n",
    "            \n",
    "            row_len = row.columns[col].shape[1]\n",
    "            \n",
    "            # Store the max length/shape row (for use later when building the table)\n",
    "            if row_len > max_len:\n",
    "                \n",
    "                max_len = row_len\n",
    "                \n",
    "                max_shape = row.columns[col].shape\n",
    "\n",
    "    col_lkp[col] = (row.columns[col].dtype, max_len, max_shape)"
   ]
  },
  {
   "cell_type": "code",
   "execution_count": 13,
   "metadata": {
    "tags": []
   },
   "outputs": [],
   "source": [
    "from collections import defaultdict\n",
    "cols = defaultdict(list)\n",
    "for row in ellipse_rows:\n",
    "    for col in row.columns:\n",
    "        cols[col].append(row[col].value[0])\n"
   ]
  },
  {
   "cell_type": "code",
   "execution_count": 14,
   "metadata": {
    "tags": []
   },
   "outputs": [],
   "source": [
    "new_cols = dict()\n",
    "\n",
    "for k, v in cols.items():\n",
    "    if hasattr(v[0], '__len__') and len(v[0]) > 1:\n",
    "        maxlen = 1\n",
    "        for item in v:\n",
    "            if hasattr(item, '__len__') and len(item) > maxlen:\n",
    "                is_str = type(item[0]) == np.str_ or type(item[0]) == str\n",
    "                maxlen = len(item)\n",
    "        \n",
    "        if is_str:\n",
    "            new_cols[k] = v\n",
    "        else:\n",
    "            new_items = []\n",
    "            for item in v:\n",
    "                new_items.append(np.pad(item.astype(float), (0, maxlen-len(item)), 'constant', constant_values=-1))\n",
    "\n",
    "            new_cols[k] = new_items\n",
    "    else:\n",
    "        new_cols[k] = v\n",
    "        "
   ]
  },
  {
   "cell_type": "code",
   "execution_count": 15,
   "metadata": {
    "tags": []
   },
   "outputs": [],
   "source": [
    "total_ellipse = Table()\n",
    "for k,v in col_lkp.items():\n",
    "    dat = new_cols[k]\n",
    "    total_ellipse.add_column(Column(data=dat, name=k, dtype=v[0], shape=v[2], length=len(ellipse_rows)))\n"
   ]
  },
  {
   "cell_type": "code",
   "execution_count": 16,
   "metadata": {
    "tags": []
   },
   "outputs": [
    {
     "name": "stdout",
     "output_type": "stream",
     "text": [
      "     ID_CENT     \n",
      "-----------------\n",
      "39627800432348509\n",
      "39627776218629401\n",
      "39627787731996510\n",
      "39627764281642440\n",
      "39627787778131707\n",
      "      ref_id     \n",
      "-----------------\n",
      "39627800432348509\n",
      "39627776218629401\n",
      "39627787731996510\n",
      "39627764281642440\n",
      "39627787778131707\n",
      "     TARGETID    \n",
      "-----------------\n",
      "39627800432348509\n",
      "39627776218629401\n",
      "39627787731996510\n",
      "39627764281642440\n",
      "39627787778131707\n"
     ]
    }
   ],
   "source": [
    "print(total_ellipse['ID_CENT'])\n",
    "print(total_tractor['ref_id'])\n",
    "print(total_sample['TARGETID'])"
   ]
  },
  {
   "cell_type": "code",
   "execution_count": 18,
   "metadata": {
    "tags": []
   },
   "outputs": [],
   "source": [
    "total_sample.write('total_sample.fits', format='fits', overwrite=True)\n",
    "total_tractor.write('total_tractor.fits', format='fits', overwrite=True)\n",
    "total_ellipse.write('total_ellipse.fits', format='fits', overwrite=True)"
   ]
  },
  {
   "cell_type": "code",
   "execution_count": 17,
   "metadata": {
    "tags": []
   },
   "outputs": [
    {
     "name": "stdout",
     "output_type": "stream",
     "text": [
      "['RA', 'DEC', 'TARGETID', 'NTILE', 'TILES', 'Z', 'COMP_TILE', 'ROSETTE_NUMBER', 'ROSETTE_R', 'FRACZ_TILELOCID', 'BITWEIGHTS', 'PROB_OBS', 'WEIGHT_ZFAIL', 'WEIGHT', 'FLUX_G_DERED', 'FLUX_R_DERED', 'FLUX_Z_DERED', 'FLUX_W1_DERED', 'FLUX_W2_DERED', 'REST_GMR_0P1', 'KCORR_R0P1', 'KCORR_G0P1', 'KCORR_R0P0', 'KCORR_G0P0', 'REST_GMR_0P0', 'EQ_ALL_0P0', 'EQ_ALL_0P1', 'ABSMAG_R', 'NZ', 'WEIGHT_FKP', 'JOIN_ID', 'MAG_R_DERED', 'INDEX', 'ID_S16A', 'CLEAN_PHOTOMETRY', 'Z_SPEC', 'Z_BEST', 'Z_PHOT', 'Z_TYPE', 'GCMODEL_MAG', 'GCMODEL_MAG_ERR', 'RCMODEL_MAG', 'RCMODEL_MAG_ERR', 'ICMODEL_MAG', 'ICMODEL_MAG_ERR', 'ZCMODEL_MAG', 'ZCMODEL_MAG_ERR', 'YCMODEL_MAG', 'YCMODEL_MAG_ERR', 'MSTAR', 'LUM_MAX', 'LUM_150', 'LUM_120', 'LUM_100', 'LUM_75', 'LUM_50', 'LUM_25', 'LUM_10', 'LUM_5', 'LUM_15', 'LUM_30', 'LUM_40', 'LUM_60', 'LOGM_5', 'LOGM_10', 'LOGM_15', 'LOGM_25', 'LOGM_30', 'LOGM_40', 'LOGM_50', 'LOGM_60', 'LOGM_75', 'LOGM_100', 'LOGM_120', 'LOGM_150', 'LOGM_MAX', 'PHOTOZ_ERR68_MIN', 'PHOTOZ_ERR68_MAX', 'VDISP_SDSS', 'VDISP_ERR_SDSS', 'GAMA_ID', 'FLUXSCALE_GAMA', 'LOGMS_GAMA', 'LOGMS_ERR_GAMA', 'ID_CLUSTER_REDM', 'P_MEM_REDM', 'Z_LAMBDA_REDM', 'Z_LAMBDA_ERR_REDM', 'LAMBDA_REDM', 'LAMBDA_ERR_REDM', 'P_CEN_1_REDM', 'ID_CAMIRA', 'Z_CAMIRA', 'N_COR_CAMIRA', 'LOGMS_CAMIRA', 'ID_MEM_CAMIRA', 'W_MEM_CAMIRA', 'SFR', 'AV', 'TAU', 'AGE', 'ZMETAL', 'R20_MAX', 'R50_MAX', 'R80_MAX', 'R90_MAX', 'R20_120', 'R50_120', 'R80_120', 'R90_120', 'R20_100', 'R50_100', 'R80_100', 'R90_100', 'C82_MAX', 'C82_120', 'C82_100', 'LOGMH_VIR_FOREST', 'LOGMH_VIR_PLANE', 'LOGMH_VIR_SYMBOL', 'LOGR_VIR_FOREST', 'OLD_DIR', 'OLD_INDEX', 'NEW_DIR', 'IS_ELL', 'MEAN_E', 'MEAN_PA', 'DECALS_DIR', 'IS_ELL_DECALS', 'COLOR_TERM', 'RADIUS_MOSAIC']\n"
     ]
    }
   ],
   "source": [
    "print(total_sample.colnames)"
   ]
  },
  {
   "cell_type": "code",
   "execution_count": null,
   "metadata": {},
   "outputs": [],
   "source": []
  }
 ],
 "metadata": {
  "kernelspec": {
   "display_name": "NERSC Python",
   "language": "python",
   "name": "python3"
  },
  "language_info": {
   "codemirror_mode": {
    "name": "ipython",
    "version": 3
   },
   "file_extension": ".py",
   "mimetype": "text/x-python",
   "name": "python",
   "nbconvert_exporter": "python",
   "pygments_lexer": "ipython3",
   "version": "3.8.5"
  },
  "vscode": {
   "interpreter": {
    "hash": "d13e3206478a049e44e2f96685cfce641104dbf146acfac144f7ddbda38dd517"
   }
  }
 },
 "nbformat": 4,
 "nbformat_minor": 4
}
