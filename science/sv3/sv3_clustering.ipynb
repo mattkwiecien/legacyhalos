{
 "cells": [
  {
   "attachments": {},
   "cell_type": "markdown",
   "metadata": {},
   "source": [
    "Create a randomly selected sample of galaxies to see where pipeline benefits start to fall short."
   ]
  },
  {
   "cell_type": "code",
   "execution_count": 11,
   "metadata": {},
   "outputs": [],
   "source": [
    "from astropy.io import fits\n",
    "from astropy.table import Table\n",
    "import os\n",
    "import numpy as np\n",
    "from sklearn.utils import resample\n"
   ]
  },
  {
   "cell_type": "code",
   "execution_count": 12,
   "metadata": {},
   "outputs": [],
   "source": [
    "path = '/global/homes/m/mkwiecie/desi/sv3-clustering'\n",
    "file = 'BGS_BRIGHT_S_clustering.dat.fits'"
   ]
  },
  {
   "cell_type": "code",
   "execution_count": 13,
   "metadata": {},
   "outputs": [
    {
     "name": "stdout",
     "output_type": "stream",
     "text": [
      "['RA', 'DEC', 'TARGETID', 'NTILE', 'TILES', 'Z', 'COMP_TILE', 'rosette_number', 'rosette_r', 'FRACZ_TILELOCID', 'BITWEIGHTS', 'PROB_OBS', 'WEIGHT_ZFAIL', 'WEIGHT', 'flux_g_dered', 'flux_r_dered', 'flux_z_dered', 'flux_w1_dered', 'flux_w2_dered', 'REST_GMR_0P1', 'KCORR_R0P1', 'KCORR_G0P1', 'KCORR_R0P0', 'KCORR_G0P0', 'REST_GMR_0P0', 'EQ_ALL_0P0', 'EQ_ALL_0P1', 'ABSMAG_R', 'NZ', 'WEIGHT_FKP']\n"
     ]
    }
   ],
   "source": [
    "bgs_bs = Table(fits.getdata(os.path.join(path, file)))\n",
    "print(bgs_bs.colnames)"
   ]
  },
  {
   "cell_type": "code",
   "execution_count": 14,
   "metadata": {},
   "outputs": [
    {
     "name": "stdout",
     "output_type": "stream",
     "text": [
      "15.849391\n",
      "15088.81\n"
     ]
    }
   ],
   "source": [
    "print(min(bgs_bs['flux_r_dered']))\n",
    "print(max(bgs_bs['flux_r_dered']))"
   ]
  },
  {
   "cell_type": "code",
   "execution_count": 15,
   "metadata": {},
   "outputs": [],
   "source": [
    "def flux_to_mag(flux):\n",
    "    return (-5/2)*np.log10(flux) + 27\n",
    "\n",
    "def mag_to_flux(mag):\n",
    "    return 10**((2/5)* (27 - mag))"
   ]
  },
  {
   "cell_type": "code",
   "execution_count": 16,
   "metadata": {},
   "outputs": [
    {
     "name": "stdout",
     "output_type": "stream",
     "text": [
      "[16.56  17.304 18.048 18.792 19.536 20.28  21.024 21.768 22.512 23.256\n",
      " 24.   ]\n",
      "[14996.84835502  7557.8801368   3808.90376498  1919.55252376\n",
      "   967.38644997   487.5284901    245.69708276   123.8226231\n",
      "    62.40221421    31.44850465    15.84893192]\n"
     ]
    }
   ],
   "source": [
    "mag_max = 24\n",
    "mag_min = 16.56\n",
    "bin_edges = 11\n",
    "mag_bins = np.linspace(mag_min, mag_max, bin_edges)\n",
    "print(mag_bins)\n",
    "flux_bins = mag_to_flux(mag_bins)\n",
    "print(flux_bins)"
   ]
  },
  {
   "attachments": {},
   "cell_type": "markdown",
   "metadata": {},
   "source": [
    "Using\n",
    "$$\n",
    "mag = -\\frac{5}{2} \\log_{10}(f) + 27\n",
    "$$\n",
    "and\n",
    "$$\n",
    "f = 10^{\\frac{2}{5}(27-mag)}\n",
    "$$\n",
    "\n",
    "15.849391 = 24\n",
    "15088.81 = 16.553363"
   ]
  },
  {
   "cell_type": "code",
   "execution_count": 17,
   "metadata": {},
   "outputs": [
    {
     "data": {
      "text/plain": [
       "(array([7.5629e+04, 1.7400e+02, 4.2000e+01, 1.5000e+01, 7.0000e+00,\n",
       "        5.0000e+00, 5.0000e+00, 0.0000e+00, 2.0000e+00, 2.0000e+00]),\n",
       " array([   15.849391,  1523.1454  ,  3030.4414  ,  4537.7373  ,\n",
       "         6045.0337  ,  7552.3296  ,  9059.626   , 10566.922   ,\n",
       "        12074.218   , 13581.514   , 15088.81    ], dtype=float32),\n",
       " [<matplotlib.patches.Polygon at 0x155337066a60>])"
      ]
     },
     "execution_count": 17,
     "metadata": {},
     "output_type": "execute_result"
    },
    {
     "data": {
      "image/png": "[encoded data removed]",
      "text/plain": [
       "<Figure size 432x288 with 1 Axes>"
      ]
     },
     "metadata": {
      "needs_background": "light"
     },
     "output_type": "display_data"
    }
   ],
   "source": [
    "import matplotlib.pyplot as plt\n",
    "\n",
    "plt.hist(bgs_bs['flux_r_dered'], histtype='step')"
   ]
  },
  {
   "cell_type": "code",
   "execution_count": 18,
   "metadata": {},
   "outputs": [],
   "source": [
    "\n",
    "def resample_by_bin(min, max, bgs, n_sample):\n",
    "    \n",
    "    mask = (bgs['flux_r_dered'] >= min) & (bgs['flux_r_dered'] < max)\n",
    "    bgs_cut = bgs[mask]\n",
    "    if n_sample > len(bgs_cut):\n",
    "        return bgs_cut\n",
    "\n",
    "    ids = bgs_cut['TARGETID']\n",
    "    strat = bgs_cut['flux_r_dered']\n",
    "\n",
    "    subsample_ids = resample(ids, replace=False, n_samples=n_sample, stratify=strat)\n",
    "    return bgs_cut[np.isin(bgs_cut['TARGETID'], subsample_ids)]\n"
   ]
  },
  {
   "cell_type": "code",
   "execution_count": 23,
   "metadata": {},
   "outputs": [
    {
     "name": "stdout",
     "output_type": "stream",
     "text": [
      "14996.84835502377\n",
      "7557.880136804536\n",
      "3808.9037649813595\n",
      "1919.552523761383\n",
      "967.3864499689537\n",
      "487.528490103386\n",
      "245.6970827636836\n",
      "123.82262309589933\n",
      "62.40221421389766\n",
      "31.448504654769607\n"
     ]
    }
   ],
   "source": [
    "resamples = []\n",
    "\n",
    "for i in range(len(flux_bins)-1):\n",
    "    print(flux_bins[i])\n",
    "    resamples.append(resample_by_bin(flux_bins[i+1], flux_bins[i], bgs_bs, 100))"
   ]
  },
  {
   "cell_type": "code",
   "execution_count": 24,
   "metadata": {},
   "outputs": [
    {
     "data": {
      "image/png": "[encoded data removed]",
      "text/plain": [
       "<Figure size 432x288 with 1 Axes>"
      ]
     },
     "metadata": {
      "needs_background": "light"
     },
     "output_type": "display_data"
    }
   ],
   "source": [
    "for s in resamples:\n",
    "    plt.hist(s['flux_r_dered'], histtype='step')"
   ]
  },
  {
   "cell_type": "code",
   "execution_count": 25,
   "metadata": {},
   "outputs": [
    {
     "name": "stdout",
     "output_type": "stream",
     "text": [
      "subsampled_bgs_min_8235.47_max_14582.40.fits\n",
      "subsampled_bgs_min_3860.05_max_7096.44.fits\n",
      "subsampled_bgs_min_1922.97_max_3773.81.fits\n",
      "subsampled_bgs_min_968.14_max_1908.68.fits\n",
      "subsampled_bgs_min_492.14_max_957.75.fits\n",
      "subsampled_bgs_min_246.13_max_480.84.fits\n",
      "subsampled_bgs_min_124.30_max_241.02.fits\n",
      "subsampled_bgs_min_62.70_max_123.38.fits\n",
      "subsampled_bgs_min_31.50_max_62.21.fits\n",
      "subsampled_bgs_min_15.85_max_29.39.fits\n"
     ]
    }
   ],
   "source": [
    "for s in resamples:\n",
    "    fname = f\"subsampled_bgs_min_{min(s['flux_r_dered']):.2f}_max_{max(s['flux_r_dered']):.2f}.fits\"\n",
    "    print(fname)\n",
    "    s.write('/global/homes/m/mkwiecie/desi/sv3-clustering/subsampled_bgs/'+fname, overwrite=True)"
   ]
  },
  {
   "cell_type": "code",
   "execution_count": null,
   "metadata": {},
   "outputs": [],
   "source": []
  }
 ],
 "metadata": {
  "kernelspec": {
   "display_name": "base",
   "language": "python",
   "name": "python3"
  },
  "language_info": {
   "codemirror_mode": {
    "name": "ipython",
    "version": 3
   },
   "file_extension": ".py",
   "mimetype": "text/x-python",
   "name": "python",
   "nbconvert_exporter": "python",
   "pygments_lexer": "ipython3",
   "version": "3.8.5"
  },
  "orig_nbformat": 4,
  "vscode": {
   "interpreter": {
    "hash": "a4e19f83f1f82f5550712ec33b4e65358df2717b46bd69bd850a55d26c55a7f6"
   }
  }
 },
 "nbformat": 4,
 "nbformat_minor": 2
}
