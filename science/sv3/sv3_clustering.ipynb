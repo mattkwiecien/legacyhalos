{
 "cells": [
  {
   "attachments": {},
   "cell_type": "markdown",
   "metadata": {},
   "source": [
    "Create a randomly selected sample of galaxies to see where pipeline benefits start to fall short."
   ]
  },
  {
   "cell_type": "code",
   "execution_count": 2,
   "metadata": {},
   "outputs": [],
   "source": [
    "from astropy.io import fits\n",
    "from astropy.table import Table\n",
    "import os"
   ]
  },
  {
   "cell_type": "code",
   "execution_count": 3,
   "metadata": {},
   "outputs": [],
   "source": [
    "path = '/global/homes/m/mkwiecie/desi/sv3-clustering'\n",
    "file = 'BGS_BRIGHT_S_clustering.dat.fits'"
   ]
  },
  {
   "cell_type": "code",
   "execution_count": 4,
   "metadata": {},
   "outputs": [
    {
     "name": "stdout",
     "output_type": "stream",
     "text": [
      "['RA', 'DEC', 'TARGETID', 'NTILE', 'TILES', 'Z', 'COMP_TILE', 'rosette_number', 'rosette_r', 'FRACZ_TILELOCID', 'BITWEIGHTS', 'PROB_OBS', 'WEIGHT_ZFAIL', 'WEIGHT', 'flux_g_dered', 'flux_r_dered', 'flux_z_dered', 'flux_w1_dered', 'flux_w2_dered', 'REST_GMR_0P1', 'KCORR_R0P1', 'KCORR_G0P1', 'KCORR_R0P0', 'KCORR_G0P0', 'REST_GMR_0P0', 'EQ_ALL_0P0', 'EQ_ALL_0P1', 'ABSMAG_R', 'NZ', 'WEIGHT_FKP']\n"
     ]
    }
   ],
   "source": [
    "bgs_bs = Table(fits.getdata(os.path.join(path, file)))\n",
    "print(bgs_bs.colnames)"
   ]
  },
  {
   "cell_type": "code",
   "execution_count": 17,
   "metadata": {},
   "outputs": [],
   "source": [
    "bgs_bs = bgs_bs[bgs_bs['flux_r_dered'] < 25]"
   ]
  },
  {
   "cell_type": "code",
   "execution_count": 18,
   "metadata": {},
   "outputs": [
    {
     "name": "stdout",
     "output_type": "stream",
     "text": [
      "15.849391\n",
      "24.99863\n"
     ]
    }
   ],
   "source": [
    "print(min(bgs_bs['flux_r_dered']))\n",
    "print(max(bgs_bs['flux_r_dered']))"
   ]
  },
  {
   "cell_type": "code",
   "execution_count": 19,
   "metadata": {},
   "outputs": [
    {
     "data": {
      "text/plain": [
       "(array([4621., 4157., 3705., 3355., 3083., 2899., 2529., 2344., 2141.,\n",
       "        1991.]),\n",
       " array([15.849391, 16.764315, 17.67924 , 18.594162, 19.509087, 20.424011,\n",
       "        21.338934, 22.253859, 23.168783, 24.083706, 24.99863 ],\n",
       "       dtype=float32),\n",
       " [<matplotlib.patches.Polygon at 0x1553369129a0>])"
      ]
     },
     "execution_count": 19,
     "metadata": {},
     "output_type": "execute_result"
    },
    {
     "data": {
      "image/png": "[encoded data removed]",
      "text/plain": [
       "<Figure size 432x288 with 1 Axes>"
      ]
     },
     "metadata": {
      "needs_background": "light"
     },
     "output_type": "display_data"
    }
   ],
   "source": [
    "import matplotlib.pyplot as plt\n",
    "\n",
    "plt.hist(bgs_bs['flux_r_dered'], histtype='step')"
   ]
  },
  {
   "cell_type": "code",
   "execution_count": 20,
   "metadata": {},
   "outputs": [],
   "source": [
    "max_mag = max(bgs_bs['flux_r_dered'])\n",
    "min_mag = min(bgs_bs['flux_r_dered'])"
   ]
  },
  {
   "cell_type": "code",
   "execution_count": 21,
   "metadata": {},
   "outputs": [],
   "source": [
    "import numpy as np\n",
    "mag_bins = np.linspace(min_mag, max_mag, round(max_mag-min_mag))"
   ]
  },
  {
   "cell_type": "code",
   "execution_count": 22,
   "metadata": {},
   "outputs": [
    {
     "name": "stdout",
     "output_type": "stream",
     "text": [
      "gal_per_bin=111\n",
      "len(mag_bins)=9\n"
     ]
    }
   ],
   "source": [
    "total_gal = 1000\n",
    "gal_per_bin = round(total_gal / len(mag_bins))\n",
    "print(f'{gal_per_bin=}')\n",
    "print(f'{len(mag_bins)=}')"
   ]
  },
  {
   "cell_type": "code",
   "execution_count": 23,
   "metadata": {},
   "outputs": [
    {
     "name": "stderr",
     "output_type": "stream",
     "text": [
      "<frozen importlib._bootstrap>:219: RuntimeWarning: scipy._lib.messagestream.MessageStream size changed, may indicate binary incompatibility. Expected 56 from C header, got 64 from PyObject\n"
     ]
    },
    {
     "data": {
      "text/plain": [
       "(array([8., 7., 3., 7., 4., 6., 4., 6., 4., 7.]),\n",
       " array([15.849408, 15.863538, 15.877667, 15.891797, 15.905927, 15.920055,\n",
       "        15.934185, 15.948315, 15.962444, 15.976574, 15.990704],\n",
       "       dtype=float32),\n",
       " <BarContainer object of 10 artists>)"
      ]
     },
     "execution_count": 23,
     "metadata": {},
     "output_type": "execute_result"
    },
    {
     "data": {
      "image/png": "[encoded data removed]",
      "text/plain": [
       "<Figure size 432x288 with 1 Axes>"
      ]
     },
     "metadata": {
      "needs_background": "light"
     },
     "output_type": "display_data"
    }
   ],
   "source": [
    "from sklearn.utils import resample\n",
    "\n",
    "def resample_by_bin(min, max, bgs, n_sample):\n",
    "    mask = (bgs['flux_r_dered'] >= min) & (bgs['flux_r_dered'] < max)\n",
    "    bgs_cut = bgs[mask]\n",
    "    ids = bgs_cut['TARGETID']\n",
    "    strat = bgs_cut['flux_r_dered']\n",
    "\n",
    "    subsample_ids = resample(ids, replace=False, n_samples=n_sample, stratify=strat)\n",
    "    return bgs_cut[np.isin(bgs_cut['TARGETID'], subsample_ids)]\n",
    "\n",
    "test = resample_by_bin(15,16, bgs_bs, 56)\n",
    "plt.hist(test['flux_r_dered'])"
   ]
  },
  {
   "cell_type": "code",
   "execution_count": 24,
   "metadata": {},
   "outputs": [],
   "source": [
    "resamples = []\n",
    "\n",
    "for i in range(len(mag_bins)-1):\n",
    "    resamples.append(resample_by_bin(mag_bins[i], mag_bins[i+1], bgs_bs, 111))"
   ]
  },
  {
   "cell_type": "code",
   "execution_count": 25,
   "metadata": {},
   "outputs": [
    {
     "name": "stdout",
     "output_type": "stream",
     "text": [
      "111\n",
      "111\n",
      "111\n",
      "111\n",
      "111\n",
      "111\n",
      "111\n",
      "111\n"
     ]
    },
    {
     "data": {
      "image/png": "[encoded data removed]",
      "text/plain": [
       "<Figure size 432x288 with 1 Axes>"
      ]
     },
     "metadata": {
      "needs_background": "light"
     },
     "output_type": "display_data"
    }
   ],
   "source": [
    "for s in resamples:\n",
    "    print(len(s))\n",
    "    plt.hist(s['flux_r_dered'], histtype='step')"
   ]
  },
  {
   "cell_type": "code",
   "execution_count": 75,
   "metadata": {},
   "outputs": [
    {
     "name": "stdout",
     "output_type": "stream",
     "text": [
      "subsampled_bgs_min_15.85_max_16.99_111.fits\n",
      "subsampled_bgs_min_17.00_max_18.14_111.fits\n",
      "subsampled_bgs_min_18.16_max_19.27_111.fits\n",
      "subsampled_bgs_min_19.29_max_20.41_111.fits\n",
      "subsampled_bgs_min_20.44_max_21.57_111.fits\n",
      "subsampled_bgs_min_21.57_max_22.71_111.fits\n",
      "subsampled_bgs_min_22.73_max_23.85_111.fits\n",
      "subsampled_bgs_min_23.86_max_25.00_111.fits\n"
     ]
    }
   ],
   "source": [
    "for s in resamples:\n",
    "    fname = f\"subsampled_bgs_min_{min(s['flux_r_dered']):.2f}_max_{max(s['flux_r_dered']):.2f}_111.fits\"\n",
    "    print(fname)\n",
    "    s.write('/global/homes/m/mkwiecie/desi/sv3-clustering/subsampled_bgs/'+fname, overwrite=True)"
   ]
  },
  {
   "cell_type": "code",
   "execution_count": null,
   "metadata": {},
   "outputs": [],
   "source": []
  }
 ],
 "metadata": {
  "kernelspec": {
   "display_name": "base",
   "language": "python",
   "name": "python3"
  },
  "language_info": {
   "codemirror_mode": {
    "name": "ipython",
    "version": 3
   },
   "file_extension": ".py",
   "mimetype": "text/x-python",
   "name": "python",
   "nbconvert_exporter": "python",
   "pygments_lexer": "ipython3",
   "version": "3.8.5"
  },
  "orig_nbformat": 4,
  "vscode": {
   "interpreter": {
    "hash": "a4e19f83f1f82f5550712ec33b4e65358df2717b46bd69bd850a55d26c55a7f6"
   }
  }
 },
 "nbformat": 4,
 "nbformat_minor": 2
}
